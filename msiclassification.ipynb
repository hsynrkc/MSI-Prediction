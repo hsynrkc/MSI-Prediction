{
  "nbformat": 4,
  "nbformat_minor": 0,
  "metadata": {
    "colab": {
      "provenance": [],
      "collapsed_sections": []
    },
    "kernelspec": {
      "name": "python3",
      "display_name": "Python 3"
    },
    "language_info": {
      "name": "python"
    }
  },
  "cells": [
    {
      "cell_type": "code",
      "execution_count": null,
      "metadata": {
        "colab": {
          "base_uri": "https://localhost:8080/"
        },
        "id": "9zF1DOWhWR7Q",
        "outputId": "6be70236-b2fc-4605-ca9a-87c072d16c82"
      },
      "outputs": [
        {
          "output_type": "stream",
          "name": "stdout",
          "text": [
            "Tue Jun 21 09:09:44 2022       \n",
            "+-----------------------------------------------------------------------------+\n",
            "| NVIDIA-SMI 460.32.03    Driver Version: 460.32.03    CUDA Version: 11.2     |\n",
            "|-------------------------------+----------------------+----------------------+\n",
            "| GPU  Name        Persistence-M| Bus-Id        Disp.A | Volatile Uncorr. ECC |\n",
            "| Fan  Temp  Perf  Pwr:Usage/Cap|         Memory-Usage | GPU-Util  Compute M. |\n",
            "|                               |                      |               MIG M. |\n",
            "|===============================+======================+======================|\n",
            "|   0  Tesla T4            Off  | 00000000:00:04.0 Off |                    0 |\n",
            "| N/A   46C    P8     9W /  70W |      0MiB / 15109MiB |      0%      Default |\n",
            "|                               |                      |                  N/A |\n",
            "+-------------------------------+----------------------+----------------------+\n",
            "                                                                               \n",
            "+-----------------------------------------------------------------------------+\n",
            "| Processes:                                                                  |\n",
            "|  GPU   GI   CI        PID   Type   Process name                  GPU Memory |\n",
            "|        ID   ID                                                   Usage      |\n",
            "|=============================================================================|\n",
            "|  No running processes found                                                 |\n",
            "+-----------------------------------------------------------------------------+\n"
          ]
        }
      ],
      "source": [
        "!nvidia-smi"
      ]
    },
    {
      "cell_type": "code",
      "execution_count": null,
      "metadata": {
        "id": "-ypkx-JKWTYU"
      },
      "outputs": [],
      "source": [
        "import os\n",
        "os.environ['KAGGLE_USERNAME'] = \"yourname\" \n",
        "os.environ['KAGGLE_KEY'] = \"yourkey\"\n",
        "!kaggle datasets download -d joangibert/tcga_coad_msi_mss_jpg"
      ]
    },
    {
      "cell_type": "code",
      "execution_count": null,
      "metadata": {
        "id": "JdmXDP2kWTe1"
      },
      "outputs": [],
      "source": [
        "from zipfile import ZipFile\n",
        "file_name = \"/content/tcga_coad_msi_mss_jpg.zip\"\n",
        "with ZipFile(file_name, 'r') as zip:\n",
        "  zip.extractall()"
      ]
    },
    {
      "cell_type": "code",
      "execution_count": null,
      "metadata": {
        "id": "H_Fzbkd-WThd"
      },
      "outputs": [],
      "source": [
        "import numpy as np\n",
        "import tensorflow as tf\n",
        "import keras\n",
        "import matplotlib.pyplot as plt\n",
        "import shutil\n",
        "import math"
      ]
    },
    {
      "cell_type": "code",
      "execution_count": null,
      "metadata": {
        "id": "_dHPYmhxWTj3",
        "colab": {
          "base_uri": "https://localhost:8080/"
        },
        "outputId": "df897ed2-a29e-4604-b72e-7e2fc5718cfd"
      },
      "outputs": [
        {
          "output_type": "execute_result",
          "data": {
            "text/plain": [
              "{'MSI': 75039, 'MSS': 117273}"
            ]
          },
          "metadata": {},
          "execution_count": 5
        }
      ],
      "source": [
        "ROOT_DIR = \"/content/dataset\"\n",
        "\n",
        "num_of_images = {}\n",
        "\n",
        "for dir in os.listdir(ROOT_DIR):\n",
        "  num_of_images[dir] = len(os.listdir(os.path.join(ROOT_DIR, dir)))\n",
        "\n",
        "num_of_images"
      ]
    },
    {
      "cell_type": "code",
      "execution_count": null,
      "metadata": {
        "id": "9JmGYnjPXYo7"
      },
      "outputs": [],
      "source": [
        "if not os.path.exists(\"./test\"):\n",
        "  os.mkdir(\"./test\")\n",
        "\n",
        "  for dir in os.listdir(ROOT_DIR):\n",
        "    os.makedirs(\"./test/\"+dir)\n",
        "    for img in np.random.choice(a=os.listdir(os.path.join(ROOT_DIR, dir) ) , \n",
        "                                size= 15000 , replace=False ):\n",
        "      \n",
        "      O = os.path.join(ROOT_DIR,dir,img)\n",
        "      D = os.path.join('./test', dir)\n",
        "      shutil.copy(O,D)\n",
        "      os.remove(O)\n",
        "else:\n",
        "  print(\"Test Klasörü Mevcut\")"
      ]
    },
    {
      "cell_type": "code",
      "execution_count": null,
      "metadata": {
        "id": "pmO0KFzCXYrj"
      },
      "outputs": [],
      "source": [
        "train_path = '/content/train'\n",
        "test_path = '/content/test'"
      ]
    },
    {
      "cell_type": "code",
      "execution_count": null,
      "metadata": {
        "colab": {
          "base_uri": "https://localhost:8080/"
        },
        "id": "bktiKv7xXYuE",
        "outputId": "ef32aeaa-33ae-4614-e535-49ea968e3cd5"
      },
      "outputs": [
        {
          "output_type": "execute_result",
          "data": {
            "text/plain": [
              "{'MSI': 60000, 'MSS': 60000}"
            ]
          },
          "metadata": {},
          "execution_count": 10
        }
      ],
      "source": [
        "train_root = train_path\n",
        "\n",
        "num_of_images = {}\n",
        "\n",
        "for i in os.listdir(train_root):\n",
        "  num_of_images[i] = len(os.listdir(os.path.join(train_root, i)))\n",
        "\n",
        "num_of_images"
      ]
    },
    {
      "cell_type": "code",
      "execution_count": null,
      "metadata": {
        "colab": {
          "base_uri": "https://localhost:8080/"
        },
        "id": "V-PzKLkKXloT",
        "outputId": "989cd3e0-6cd2-4525-dffd-f6b7e1a40283"
      },
      "outputs": [
        {
          "output_type": "execute_result",
          "data": {
            "text/plain": [
              "{'MSI': 15000, 'MSS': 15000}"
            ]
          },
          "metadata": {},
          "execution_count": 11
        }
      ],
      "source": [
        "test_root = test_path\n",
        "\n",
        "num_of_images = {}\n",
        "\n",
        "\n",
        "for i in os.listdir(test_root):\n",
        "  num_of_images[i] = len(os.listdir(os.path.join(test_root, i)))\n",
        "  \n",
        "\n",
        "num_of_images"
      ]
    },
    {
      "cell_type": "code",
      "execution_count": null,
      "metadata": {
        "id": "KGHpvdqB6PH8"
      },
      "outputs": [],
      "source": [
        "import keras\n",
        "from keras import layers\n",
        "from keras.preprocessing import image\n",
        "from keras.models import Model\n",
        "from keras.layers import Dense, GlobalAveragePooling2D, Flatten\n",
        "from keras.preprocessing.image import ImageDataGenerator\n",
        "from keras.callbacks import CSVLogger\n",
        "from keras.utils.np_utils import to_categorical\n",
        "from keras.models import Sequential\n",
        "from tensorflow.keras.applications.resnet import ResNet50\n",
        "from tensorflow.keras.applications.mobilenet_v2 import MobileNetV2\n",
        "from tensorflow.keras.applications.vgg19 import VGG19\n",
        "from tensorflow.keras.applications.inception_v3 import InceptionV3\n",
        "from tensorflow.keras.optimizers import RMSprop\n",
        "import numpy as np\n",
        "import matplotlib.pyplot as plt\n",
        "import seaborn as sns"
      ]
    },
    {
      "cell_type": "code",
      "execution_count": null,
      "metadata": {
        "id": "V_Q7AQ7g6PUp"
      },
      "outputs": [],
      "source": [
        "training_data_dir =\"/content/train\" \n",
        "test_data_dir = \"/content/test\" "
      ]
    },
    {
      "cell_type": "code",
      "execution_count": null,
      "metadata": {
        "id": "Ld_24Q996PYC"
      },
      "outputs": [],
      "source": [
        "IMAGE_SIZE = 224\n",
        "IMAGE_WIDTH, IMAGE_HEIGHT = IMAGE_SIZE, IMAGE_SIZE\n",
        "EPOCHS =10\n",
        "BATCH_SIZE =64\n",
        "learning = 1e-5\n",
        "input_shape = (IMAGE_WIDTH, IMAGE_HEIGHT, 3)"
      ]
    },
    {
      "cell_type": "code",
      "execution_count": null,
      "metadata": {
        "id": "Q2ZTKcLH6Pbn"
      },
      "outputs": [],
      "source": [
        "TRAINING_LOGS_FILE = \"training_logs.csv\"\n",
        "MODEL_SUMMARY_FILE = \"model_summary.txt\"\n",
        "MODEL_FILE = \"model.h5\""
      ]
    },
    {
      "cell_type": "code",
      "execution_count": null,
      "metadata": {
        "colab": {
          "base_uri": "https://localhost:8080/"
        },
        "id": "R0Vb9fuI6Pep",
        "outputId": "5b46d301-621f-48c1-cc54-3aa4bbd16645"
      },
      "outputs": [
        {
          "output_type": "stream",
          "name": "stdout",
          "text": [
            "Downloading data from https://storage.googleapis.com/tensorflow/keras-applications/vgg19/vgg19_weights_tf_dim_ordering_tf_kernels_notop.h5\n",
            "80142336/80134624 [==============================] - 0s 0us/step\n",
            "80150528/80134624 [==============================] - 0s 0us/step\n",
            "Model: \"model\"\n",
            "_________________________________________________________________\n",
            " Layer (type)                Output Shape              Param #   \n",
            "=================================================================\n",
            " input_1 (InputLayer)        [(None, 224, 224, 3)]     0         \n",
            "                                                                 \n",
            " block1_conv1 (Conv2D)       (None, 224, 224, 64)      1792      \n",
            "                                                                 \n",
            " block1_conv2 (Conv2D)       (None, 224, 224, 64)      36928     \n",
            "                                                                 \n",
            " block1_pool (MaxPooling2D)  (None, 112, 112, 64)      0         \n",
            "                                                                 \n",
            " block2_conv1 (Conv2D)       (None, 112, 112, 128)     73856     \n",
            "                                                                 \n",
            " block2_conv2 (Conv2D)       (None, 112, 112, 128)     147584    \n",
            "                                                                 \n",
            " block2_pool (MaxPooling2D)  (None, 56, 56, 128)       0         \n",
            "                                                                 \n",
            " block3_conv1 (Conv2D)       (None, 56, 56, 256)       295168    \n",
            "                                                                 \n",
            " block3_conv2 (Conv2D)       (None, 56, 56, 256)       590080    \n",
            "                                                                 \n",
            " block3_conv3 (Conv2D)       (None, 56, 56, 256)       590080    \n",
            "                                                                 \n",
            " block3_conv4 (Conv2D)       (None, 56, 56, 256)       590080    \n",
            "                                                                 \n",
            " block3_pool (MaxPooling2D)  (None, 28, 28, 256)       0         \n",
            "                                                                 \n",
            " block4_conv1 (Conv2D)       (None, 28, 28, 512)       1180160   \n",
            "                                                                 \n",
            " block4_conv2 (Conv2D)       (None, 28, 28, 512)       2359808   \n",
            "                                                                 \n",
            " block4_conv3 (Conv2D)       (None, 28, 28, 512)       2359808   \n",
            "                                                                 \n",
            " block4_conv4 (Conv2D)       (None, 28, 28, 512)       2359808   \n",
            "                                                                 \n",
            " block4_pool (MaxPooling2D)  (None, 14, 14, 512)       0         \n",
            "                                                                 \n",
            " block5_conv1 (Conv2D)       (None, 14, 14, 512)       2359808   \n",
            "                                                                 \n",
            " block5_conv2 (Conv2D)       (None, 14, 14, 512)       2359808   \n",
            "                                                                 \n",
            " block5_conv3 (Conv2D)       (None, 14, 14, 512)       2359808   \n",
            "                                                                 \n",
            " block5_conv4 (Conv2D)       (None, 14, 14, 512)       2359808   \n",
            "                                                                 \n",
            " block5_pool (MaxPooling2D)  (None, 7, 7, 512)         0         \n",
            "                                                                 \n",
            " global_average_pooling2d (G  (None, 512)              0         \n",
            " lobalAveragePooling2D)                                          \n",
            "                                                                 \n",
            " dense (Dense)               (None, 128)               65664     \n",
            "                                                                 \n",
            " dense_1 (Dense)             (None, 1)                 129       \n",
            "                                                                 \n",
            "=================================================================\n",
            "Total params: 20,090,177\n",
            "Trainable params: 20,090,177\n",
            "Non-trainable params: 0\n",
            "_________________________________________________________________\n"
          ]
        }
      ],
      "source": [
        "%matplotlib inline\n",
        "\n",
        "base_model=VGG19(input_shape=(224,224,3),weights='imagenet',include_top=False)\n",
        "\n",
        "x = base_model.output\n",
        "x = GlobalAveragePooling2D()(x)\n",
        "x = Dense(128, activation='relu')(x)\n",
        "predictions = Dense(1, activation='sigmoid')(x)\n",
        "\n",
        "model = Model(inputs=base_model.input, outputs=predictions)\n",
        "model.compile(optimizer=RMSprop(learning_rate=learning,rho=0.9, centered=False), loss='binary_crossentropy',metrics=['accuracy'])\n",
        "\n",
        "\n",
        "model.summary()"
      ]
    },
    {
      "cell_type": "code",
      "execution_count": null,
      "metadata": {
        "id": "CTOrl0rA6baC"
      },
      "outputs": [],
      "source": [
        "with open(MODEL_SUMMARY_FILE,\"w\") as fh:\n",
        "    model.summary(print_fn=lambda line: fh.write(line + \"\\n\"))\n",
        "\n",
        "training_data_generator = ImageDataGenerator(rescale=1./255,validation_split=0.2)\n",
        "test_data_generator = ImageDataGenerator(rescale=1./255)"
      ]
    },
    {
      "cell_type": "code",
      "execution_count": null,
      "metadata": {
        "colab": {
          "base_uri": "https://localhost:8080/"
        },
        "id": "SK_6gOJx6bdG",
        "outputId": "736f7539-55b4-4dee-9b85-2f0c21a19027"
      },
      "outputs": [
        {
          "output_type": "stream",
          "name": "stdout",
          "text": [
            "Found 96000 images belonging to 2 classes.\n",
            "Found 24000 images belonging to 2 classes.\n"
          ]
        }
      ],
      "source": [
        "training_generator = training_data_generator.flow_from_directory(\n",
        "    training_data_dir,\n",
        "    target_size=(IMAGE_WIDTH, IMAGE_HEIGHT),\n",
        "    batch_size=BATCH_SIZE,\n",
        "    subset ='training',\n",
        "    class_mode=\"binary\", shuffle=True)\n",
        "validation_generator = training_data_generator.flow_from_directory(\n",
        "    training_data_dir,\n",
        "    target_size=(IMAGE_WIDTH, IMAGE_HEIGHT),\n",
        "    batch_size=BATCH_SIZE,\n",
        "    subset='validation',\n",
        "    class_mode=\"binary\", shuffle = True)"
      ]
    },
    {
      "cell_type": "code",
      "execution_count": null,
      "metadata": {
        "id": "JgLQyjdfZPP6"
      },
      "outputs": [],
      "source": [
        "from tensorflow.keras.callbacks import ModelCheckpoint\n",
        "mc= ModelCheckpoint('en_iyi_model.h5',save_best_only=True,monitor='val_loss',mode='min')"
      ]
    },
    {
      "cell_type": "code",
      "execution_count": null,
      "metadata": {
        "colab": {
          "base_uri": "https://localhost:8080/"
        },
        "id": "nu1Q3EYo6bfp",
        "outputId": "0d1fae15-899f-4414-c1f6-83305d29eb02"
      },
      "outputs": [
        {
          "output_type": "stream",
          "name": "stdout",
          "text": [
            "Epoch 1/10\n",
            "1500/1500 [==============================] - 1763s 1s/step - loss: 0.5561 - accuracy: 0.7070 - val_loss: 0.4733 - val_accuracy: 0.7698\n",
            "Epoch 2/10\n",
            "1500/1500 [==============================] - 1750s 1s/step - loss: 0.4426 - accuracy: 0.7886 - val_loss: 0.3784 - val_accuracy: 0.8284\n",
            "Epoch 3/10\n",
            "1500/1500 [==============================] - 1810s 1s/step - loss: 0.3749 - accuracy: 0.8269 - val_loss: 0.3408 - val_accuracy: 0.8511\n",
            "Epoch 4/10\n",
            "1500/1500 [==============================] - 1811s 1s/step - loss: 0.3291 - accuracy: 0.8521 - val_loss: 0.3070 - val_accuracy: 0.8632\n",
            "Epoch 5/10\n",
            "1500/1500 [==============================] - 1752s 1s/step - loss: 0.2944 - accuracy: 0.8700 - val_loss: 0.3938 - val_accuracy: 0.8266\n",
            "Epoch 6/10\n",
            "1500/1500 [==============================] - 1752s 1s/step - loss: 0.2657 - accuracy: 0.8842 - val_loss: 0.3512 - val_accuracy: 0.8457\n",
            "Epoch 7/10\n",
            "1500/1500 [==============================] - 1754s 1s/step - loss: 0.2415 - accuracy: 0.8960 - val_loss: 0.2514 - val_accuracy: 0.8923\n",
            "Epoch 8/10\n",
            "1500/1500 [==============================] - 1753s 1s/step - loss: 0.2244 - accuracy: 0.9038 - val_loss: 0.2520 - val_accuracy: 0.8963\n",
            "Epoch 9/10\n",
            "1500/1500 [==============================] - 1755s 1s/step - loss: 0.2069 - accuracy: 0.9125 - val_loss: 0.2921 - val_accuracy: 0.8801\n",
            "Epoch 10/10\n",
            "1500/1500 [==============================] - 1755s 1s/step - loss: 0.1937 - accuracy: 0.9199 - val_loss: 0.2127 - val_accuracy: 0.9128\n",
            "Time:  4:54:26.673587\n"
          ]
        }
      ],
      "source": [
        "import warnings\n",
        "warnings.filterwarnings(\"ignore\")\n",
        "import datetime\n",
        "import time\n",
        "start = datetime.datetime.now()\n",
        "# Training\n",
        "H = model.fit_generator(\n",
        "    training_generator,\n",
        "    epochs=EPOCHS,\n",
        "    validation_data=validation_generator,\n",
        "    callbacks=[mc, CSVLogger(TRAINING_LOGS_FILE,append=False,separator=\";\")],verbose=1)\n",
        "end= datetime.datetime.now()\n",
        "elapsed= end-start\n",
        "print ('Time: ', elapsed)\n",
        "\n",
        "model.save_weights(MODEL_FILE)"
      ]
    },
    {
      "cell_type": "code",
      "execution_count": null,
      "metadata": {
        "id": "8IPENE4C6lI2",
        "colab": {
          "base_uri": "https://localhost:8080/",
          "height": 565
        },
        "outputId": "1ccd1ad6-f4ac-47af-dda2-6ef0ec58a6c2"
      },
      "outputs": [
        {
          "output_type": "display_data",
          "data": {
            "text/plain": [
              "<Figure size 432x288 with 1 Axes>"
            ],
            "image/png": "[encoded data removed]"
          },
          "metadata": {}
        },
        {
          "output_type": "display_data",
          "data": {
            "text/plain": [
              "<Figure size 432x288 with 1 Axes>"
            ],
            "image/png": "[encoded data removed]"
          },
          "metadata": {}
        }
      ],
      "source": [
        "N = EPOCHS\n",
        "plt.style.use(\"seaborn-white\")\n",
        "plt.figure()\n",
        "plt.plot(np.arange(0, N), H.history[\"loss\"], label=\"train_loss\")\n",
        "plt.plot(np.arange(0, N), H.history[\"val_loss\"], label=\"test_loss\")\n",
        "plt.title(\"Training Loss on Dataset\")\n",
        "plt.xlabel(\"Epoch #\")\n",
        "plt.ylabel(\"Loss/Accuracy\")\n",
        "plt.legend(loc=\"lower left\")\n",
        "plt.savefig(\"plot.png\")\n",
        "\n",
        "plt.style.use(\"seaborn-white\")\n",
        "plt.figure()\n",
        "plt.plot(np.arange(0, N), H.history[\"accuracy\"], label=\"train_acc\")\n",
        "plt.plot(np.arange(0, N), H.history[\"val_accuracy\"], label=\"test_acc\")\n",
        "plt.title(\"Training Accuracy on Dataset\")\n",
        "plt.xlabel(\"Epoch #\")\n",
        "plt.ylabel(\"Loss/Accuracy\")\n",
        "plt.legend(loc=\"lower left\")\n",
        "plt.savefig(\"plot.png\")"
      ]
    },
    {
      "cell_type": "code",
      "execution_count": null,
      "metadata": {
        "id": "6s7Fzd0oMBh4"
      },
      "outputs": [],
      "source": [
        "from tensorflow.keras.models import load_model\n",
        "from tensorflow.keras.preprocessing.image import load_img, img_to_array\n",
        "vggmodel = load_model('/content/en_iyi_model.h5')"
      ]
    },
    {
      "cell_type": "code",
      "source": [
        "test_generator = test_data_generator.flow_from_directory(\n",
        "    test_data_dir,\n",
        "    target_size=(IMAGE_WIDTH, IMAGE_HEIGHT),\n",
        "    batch_size=BATCH_SIZE,\n",
        "    class_mode=\"binary\",\n",
        "    shuffle=False)"
      ],
      "metadata": {
        "colab": {
          "base_uri": "https://localhost:8080/"
        },
        "id": "x7Lcha5ORQbW",
        "outputId": "35bbd2f6-f49e-4411-f56f-f97d7de9cad9"
      },
      "execution_count": null,
      "outputs": [
        {
          "output_type": "stream",
          "name": "stdout",
          "text": [
            "Found 30000 images belonging to 2 classes.\n"
          ]
        }
      ]
    },
    {
      "cell_type": "code",
      "execution_count": null,
      "metadata": {
        "id": "NQYVD92CWp0d",
        "colab": {
          "base_uri": "https://localhost:8080/"
        },
        "outputId": "a40ba834-d2de-4481-9f21-cd160a13e8e9"
      },
      "outputs": [
        {
          "output_type": "stream",
          "name": "stdout",
          "text": [
            "469/469 [==============================] - 185s 393ms/step - loss: 0.2250 - accuracy: 0.9059\n",
            "Test: accuracy = 0.905933 ; loss = 0.224981 \n"
          ]
        }
      ],
      "source": [
        "loss, accuracy = vggmodel.evaluate(test_generator)\n",
        "print(\"Test: accuracy = %f ; loss = %f \" %(accuracy,loss))"
      ]
    },
    {
      "cell_type": "code",
      "execution_count": null,
      "metadata": {
        "id": "AYFRs8jBbcnK",
        "colab": {
          "base_uri": "https://localhost:8080/",
          "height": 298
        },
        "outputId": "24d622ba-e37e-446d-de52-5d6af3778037"
      },
      "outputs": [
        {
          "output_type": "stream",
          "name": "stdout",
          "text": [
            "Confusion Matrix\n"
          ]
        },
        {
          "output_type": "execute_result",
          "data": {
            "text/plain": [
              "<matplotlib.axes._subplots.AxesSubplot at 0x7f80d41e6110>"
            ]
          },
          "metadata": {},
          "execution_count": 26
        },
        {
          "output_type": "display_data",
          "data": {
            "text/plain": [
              "<Figure size 432x288 with 2 Axes>"
            ],
            "image/png": "[encoded data removed]"
          },
          "metadata": {}
        }
      ],
      "source": [
        "from sklearn.metrics import classification_report, confusion_matrix\n",
        "\n",
        "y_true_val = test_generator.classes\n",
        "y_pred = np.round(vggmodel.predict(test_generator),0)\n",
        "cm=confusion_matrix(y_true_val, y_pred)\n",
        "print('Confusion Matrix')\n",
        "target_names = [\"MSI\",\"MSS\"]\n",
        "sns.heatmap(cm, annot=True,fmt='d',cmap='Blues',xticklabels=target_names,yticklabels=target_names)\n"
      ]
    },
    {
      "cell_type": "code",
      "execution_count": null,
      "metadata": {
        "id": "iUcGGpbJ6lOk",
        "colab": {
          "base_uri": "https://localhost:8080/"
        },
        "outputId": "27d4856a-f1a4-4868-e2c8-9e1984b57c01"
      },
      "outputs": [
        {
          "output_type": "stream",
          "name": "stdout",
          "text": [
            "Classification Report\n",
            "              precision    recall  f1-score   support\n",
            "\n",
            "         MSI       0.93      0.88      0.90     15000\n",
            "         MSS       0.89      0.93      0.91     15000\n",
            "\n",
            "    accuracy                           0.91     30000\n",
            "   macro avg       0.91      0.91      0.91     30000\n",
            "weighted avg       0.91      0.91      0.91     30000\n",
            "\n"
          ]
        }
      ],
      "source": [
        "print('Classification Report')\n",
        "print(classification_report(y_true_val, y_pred, target_names=target_names))"
      ]
    },
    {
      "cell_type": "code",
      "execution_count": null,
      "metadata": {
        "id": "uXZRPB4X6biP",
        "colab": {
          "base_uri": "https://localhost:8080/",
          "height": 291
        },
        "outputId": "9e5a876f-67c6-4540-9f6f-01909d70a3ef"
      },
      "outputs": [
        {
          "output_type": "display_data",
          "data": {
            "text/plain": [
              "<Figure size 432x288 with 1 Axes>"
            ],
            "image/png": "[encoded data removed]"
          },
          "metadata": {}
        }
      ],
      "source": [
        "from sklearn.metrics import classification_report, confusion_matrix, roc_curve, auc\n",
        "\n",
        "lw = 2\n",
        "fpr = dict()\n",
        "tpr = dict()\n",
        "roc_auc = dict()\n",
        "for i in range(2):\n",
        "   fpr[i], tpr[i], _ = roc_curve(test_generator.classes, y_pred)\n",
        "   roc_auc[i] = auc(fpr[i], tpr[i])\n",
        "\n",
        "plt.figure()\n",
        "lw = 2\n",
        "plt.plot(fpr[0], tpr[0], color='darkorange',lw=lw, label='ROC curve (area = %0.4f)' % roc_auc[1])\n",
        "plt.plot([0, 1], [0, 1], color='navy', lw=lw, linestyle='--')\n",
        "plt.xlim([-0.01, 1.0])\n",
        "plt.ylim([0.0, 1.05])\n",
        "plt.xlabel('False Positive Rate')\n",
        "plt.ylabel('True Positive Rate')\n",
        "plt.title('Receiver operating characteristic example')\n",
        "plt.legend(loc=\"lower right\")\n",
        "plt.show()"
      ]
    }
  ]
}